{
 "cells": [
  {
   "cell_type": "code",
   "execution_count": 6,
   "metadata": {},
   "outputs": [],
   "source": [
    "import pandas as pd\n",
    "from tqdm import tqdm\n",
    "from tqdm import trange\n",
    "import numpy as np"
   ]
  },
  {
   "cell_type": "code",
   "execution_count": 57,
   "metadata": {},
   "outputs": [],
   "source": [
    "train_cvs = pd.read_csv('stage_2_train.csv')"
   ]
  },
  {
   "cell_type": "code",
   "execution_count": 58,
   "metadata": {},
   "outputs": [],
   "source": [
    "train_cvs_names = train_cvs['ID']"
   ]
  },
  {
   "cell_type": "code",
   "execution_count": 59,
   "metadata": {},
   "outputs": [
    {
     "data": {
      "text/plain": [
       "0                  ID_12cadc6af_epidural\n",
       "1          ID_12cadc6af_intraparenchymal\n",
       "2          ID_12cadc6af_intraventricular\n",
       "3              ID_12cadc6af_subarachnoid\n",
       "4                  ID_12cadc6af_subdural\n",
       "                       ...              \n",
       "4516837    ID_4a85a3a3f_intraparenchymal\n",
       "4516838    ID_4a85a3a3f_intraventricular\n",
       "4516839        ID_4a85a3a3f_subarachnoid\n",
       "4516840            ID_4a85a3a3f_subdural\n",
       "4516841                 ID_4a85a3a3f_any\n",
       "Name: ID, Length: 4516842, dtype: object"
      ]
     },
     "execution_count": 59,
     "metadata": {},
     "output_type": "execute_result"
    }
   ],
   "source": [
    "train_cvs_names"
   ]
  },
  {
   "cell_type": "code",
   "execution_count": 60,
   "metadata": {},
   "outputs": [],
   "source": [
    "train_unique_names = train_cvs_names[train_cvs_names.str.contains('_any')]"
   ]
  },
  {
   "cell_type": "code",
   "execution_count": 61,
   "metadata": {},
   "outputs": [
    {
     "data": {
      "text/plain": [
       "752807"
      ]
     },
     "execution_count": 61,
     "metadata": {},
     "output_type": "execute_result"
    }
   ],
   "source": [
    "len(train_unique_names)"
   ]
  },
  {
   "cell_type": "code",
   "execution_count": 11,
   "metadata": {},
   "outputs": [],
   "source": [
    "final_train_dicom_names = train_unique_names.str.replace('_any','').reset_index(drop=True)"
   ]
  },
  {
   "cell_type": "code",
   "execution_count": 33,
   "metadata": {},
   "outputs": [
    {
     "data": {
      "text/plain": [
       "0         ID_12cadc6af\n",
       "1         ID_38fd7baa0\n",
       "2         ID_6c5d82413\n",
       "3         ID_aec8e68b3\n",
       "4         ID_4d9209c7c\n",
       "              ...     \n",
       "752802    ID_41029e8f0\n",
       "752803    ID_4b74ffd24\n",
       "752804    ID_e5c02a4ca\n",
       "752805    ID_8079930a8\n",
       "752806    ID_4a85a3a3f\n",
       "Name: ID, Length: 752807, dtype: object"
      ]
     },
     "execution_count": 33,
     "metadata": {},
     "output_type": "execute_result"
    }
   ],
   "source": [
    "final_train_dicom_names"
   ]
  },
  {
   "cell_type": "code",
   "execution_count": 12,
   "metadata": {},
   "outputs": [],
   "source": [
    "final_train_dicom_names.to_csv('train_dicom_names.csv', index = False)"
   ]
  },
  {
   "cell_type": "code",
   "execution_count": 13,
   "metadata": {},
   "outputs": [],
   "source": [
    "final_dicom_classes = train_cvs['Label'].values.reshape(len(train_cvs)//6, 6)"
   ]
  },
  {
   "cell_type": "code",
   "execution_count": 39,
   "metadata": {},
   "outputs": [
    {
     "data": {
      "text/plain": [
       "array([[0, 0, 0, 0, 0, 0],\n",
       "       [0, 0, 0, 0, 0, 0],\n",
       "       [0, 0, 0, 0, 0, 0],\n",
       "       ...,\n",
       "       [0, 0, 0, 0, 0, 0],\n",
       "       [0, 0, 0, 0, 0, 0],\n",
       "       [0, 0, 0, 0, 0, 0]])"
      ]
     },
     "execution_count": 39,
     "metadata": {},
     "output_type": "execute_result"
    }
   ],
   "source": [
    "final_dicom_classes"
   ]
  },
  {
   "cell_type": "code",
   "execution_count": 14,
   "metadata": {},
   "outputs": [],
   "source": [
    "np.savetxt(\"labels.csv\", final_dicom_classes, delimiter=\",\")"
   ]
  },
  {
   "cell_type": "code",
   "execution_count": 15,
   "metadata": {},
   "outputs": [],
   "source": [
    "# recur = np.loadtxt('labels.csv', delimiter=\",\")"
   ]
  },
  {
   "cell_type": "code",
   "execution_count": 16,
   "metadata": {},
   "outputs": [],
   "source": [
    "# recur.shape"
   ]
  },
  {
   "cell_type": "code",
   "execution_count": 17,
   "metadata": {},
   "outputs": [
    {
     "data": {
      "text/plain": [
       "array([['ID_12cadc6af'],\n",
       "       ['ID_38fd7baa0'],\n",
       "       ['ID_6c5d82413'],\n",
       "       ...,\n",
       "       ['ID_e5c02a4ca'],\n",
       "       ['ID_8079930a8'],\n",
       "       ['ID_4a85a3a3f']], dtype=object)"
      ]
     },
     "execution_count": 17,
     "metadata": {},
     "output_type": "execute_result"
    }
   ],
   "source": [
    "pd.read_csv('train_dicom_names.csv').values"
   ]
  },
  {
   "cell_type": "code",
   "execution_count": 18,
   "metadata": {},
   "outputs": [
    {
     "data": {
      "text/plain": [
       "752807"
      ]
     },
     "execution_count": 18,
     "metadata": {},
     "output_type": "execute_result"
    }
   ],
   "source": [
    "len(final_train_dicom_names)"
   ]
  },
  {
   "cell_type": "code",
   "execution_count": 19,
   "metadata": {},
   "outputs": [
    {
     "data": {
      "text/plain": [
       "5          ID_12cadc6af_any\n",
       "11         ID_38fd7baa0_any\n",
       "17         ID_6c5d82413_any\n",
       "23         ID_aec8e68b3_any\n",
       "29         ID_4d9209c7c_any\n",
       "                 ...       \n",
       "4516817    ID_41029e8f0_any\n",
       "4516823    ID_4b74ffd24_any\n",
       "4516829    ID_e5c02a4ca_any\n",
       "4516835    ID_8079930a8_any\n",
       "4516841    ID_4a85a3a3f_any\n",
       "Name: ID, Length: 752807, dtype: object"
      ]
     },
     "execution_count": 19,
     "metadata": {},
     "output_type": "execute_result"
    }
   ],
   "source": [
    "train_unique_names"
   ]
  },
  {
   "cell_type": "code",
   "execution_count": 20,
   "metadata": {},
   "outputs": [],
   "source": [
    "filter_hemorrage = (train_cvs[train_cvs_names.str.contains('_any')]['Label'] == 1)\n",
    "filter_no_hemorrage = (train_cvs[train_cvs_names.str.contains('_any')]['Label'] == 0)"
   ]
  },
  {
   "cell_type": "code",
   "execution_count": 21,
   "metadata": {},
   "outputs": [],
   "source": [
    "filter_subdural = (train_cvs[train_cvs_names.str.contains('_subdural')]['Label'] == 1)\n",
    "filter_epidural = (train_cvs[train_cvs_names.str.contains('_epidural')]['Label'] == 1)\n",
    "filter_intraparenchymal = (train_cvs[train_cvs_names.str.contains('_intraparenchymal')]['Label'] == 1)\n",
    "filter_intraventricular = (train_cvs[train_cvs_names.str.contains('_intraventricular')]['Label'] == 1)\n",
    "filter_subarachnoid = (train_cvs[train_cvs_names.str.contains('_subarachnoid')]['Label'] == 1)"
   ]
  },
  {
   "cell_type": "code",
   "execution_count": 22,
   "metadata": {},
   "outputs": [],
   "source": [
    "with_hemorrage = final_train_dicom_names[filter_hemorrage.values]\n",
    "without_hemorrage = final_train_dicom_names[filter_no_hemorrage.values]\n",
    "\n",
    "epidural_hemorarge = final_train_dicom_names[filter_epidural.values]\n",
    "intraparenchymal_hemorrage = final_train_dicom_names[filter_intraparenchymal.values]\n",
    "subdural_hemorarge = final_train_dicom_names[filter_subdural.values]\n",
    "intraventricular_hemorrage = final_train_dicom_names[filter_intraventricular.values]\n",
    "subarachnoid_hemorarge = final_train_dicom_names[filter_subarachnoid .values]\n"
   ]
  },
  {
   "cell_type": "code",
   "execution_count": 67,
   "metadata": {},
   "outputs": [
    {
     "data": {
      "text/plain": [
       "644874"
      ]
     },
     "execution_count": 67,
     "metadata": {},
     "output_type": "execute_result"
    }
   ],
   "source": [
    "len(without_hemorrage)"
   ]
  },
  {
   "cell_type": "code",
   "execution_count": 24,
   "metadata": {},
   "outputs": [
    {
     "data": {
      "text/plain": [
       "107933"
      ]
     },
     "execution_count": 24,
     "metadata": {},
     "output_type": "execute_result"
    }
   ],
   "source": [
    "len(with_hemorrage)"
   ]
  },
  {
   "cell_type": "code",
   "execution_count": 66,
   "metadata": {},
   "outputs": [
    {
     "data": {
      "text/plain": [
       "3145"
      ]
     },
     "execution_count": 66,
     "metadata": {},
     "output_type": "execute_result"
    }
   ],
   "source": [
    "len(epidural_hemorarge)"
   ]
  },
  {
   "cell_type": "code",
   "execution_count": 26,
   "metadata": {},
   "outputs": [
    {
     "data": {
      "text/plain": [
       "36118"
      ]
     },
     "execution_count": 26,
     "metadata": {},
     "output_type": "execute_result"
    }
   ],
   "source": [
    "len(intraparenchymal_hemorrage )"
   ]
  },
  {
   "cell_type": "code",
   "execution_count": 27,
   "metadata": {},
   "outputs": [
    {
     "data": {
      "text/plain": [
       "47166"
      ]
     },
     "execution_count": 27,
     "metadata": {},
     "output_type": "execute_result"
    }
   ],
   "source": [
    "len(subdural_hemorarge )"
   ]
  },
  {
   "cell_type": "code",
   "execution_count": 28,
   "metadata": {},
   "outputs": [
    {
     "data": {
      "text/plain": [
       "26205"
      ]
     },
     "execution_count": 28,
     "metadata": {},
     "output_type": "execute_result"
    }
   ],
   "source": [
    "len(intraventricular_hemorrage)"
   ]
  },
  {
   "cell_type": "code",
   "execution_count": 29,
   "metadata": {
    "scrolled": true
   },
   "outputs": [
    {
     "data": {
      "text/plain": [
       "35675"
      ]
     },
     "execution_count": 29,
     "metadata": {},
     "output_type": "execute_result"
    }
   ],
   "source": [
    "len(subarachnoid_hemorarge)"
   ]
  },
  {
   "cell_type": "code",
   "execution_count": 30,
   "metadata": {},
   "outputs": [],
   "source": [
    "with_hemorrage.to_csv('with_hemorrage.csv', index = False)\n",
    "without_hemorrage.to_csv('without_hemorrage.csv', index = False)\n",
    "\n",
    "epidural_hemorarge.to_csv('epidural_hemorarge.csv', index = False)\n",
    "intraparenchymal_hemorrage.to_csv('intraparenchymal_hemorrage.csv', index = False)\n",
    "subdural_hemorarge.to_csv('subdural_hemorarge.csv', index = False)\n",
    "intraventricular_hemorrage.to_csv('intraventricular_hemorrage.csv', index = False)\n",
    "subarachnoid_hemorarge.to_csv('subarachnoid_hemorarge', index = False)"
   ]
  }
 ],
 "metadata": {
  "kernelspec": {
   "display_name": "Python 3",
   "language": "python",
   "name": "python3"
  },
  "language_info": {
   "codemirror_mode": {
    "name": "ipython",
    "version": 3
   },
   "file_extension": ".py",
   "mimetype": "text/x-python",
   "name": "python",
   "nbconvert_exporter": "python",
   "pygments_lexer": "ipython3",
   "version": "3.6.10"
  }
 },
 "nbformat": 4,
 "nbformat_minor": 2
}
