{
 "metadata": {
  "language_info": {
   "codemirror_mode": {
    "name": "ipython",
    "version": 3
   },
   "file_extension": ".py",
   "mimetype": "text/x-python",
   "name": "python",
   "nbconvert_exporter": "python",
   "pygments_lexer": "ipython3",
   "version": "3.8.6-final"
  },
  "orig_nbformat": 2,
  "kernelspec": {
   "name": "python3",
   "display_name": "Python 3.8.6 64-bit",
   "metadata": {
    "interpreter": {
     "hash": "767d51c1340bd893661ea55ea3124f6de3c7a262a8b4abca0554b478b1e2ff90"
    }
   }
  }
 },
 "nbformat": 4,
 "nbformat_minor": 2,
 "cells": [
  {
   "cell_type": "code",
   "execution_count": 1,
   "metadata": {},
   "outputs": [],
   "source": [
    "import pandas as pd\n",
    "import numpy as np\n",
    "from imutils import paths"
   ]
  },
  {
   "cell_type": "code",
   "execution_count": 2,
   "metadata": {},
   "outputs": [],
   "source": [
    "# list(paths.list_images('final_train'))"
   ]
  },
  {
   "cell_type": "code",
   "execution_count": 3,
   "metadata": {},
   "outputs": [],
   "source": [
    "names = pd.read_csv('train_dicom_names.csv')"
   ]
  },
  {
   "cell_type": "code",
   "execution_count": 4,
   "metadata": {},
   "outputs": [],
   "source": [
    "imagesPaths = 'final_train/data/' + names + '.jpg'"
   ]
  },
  {
   "cell_type": "code",
   "execution_count": 5,
   "metadata": {},
   "outputs": [],
   "source": [
    "imagesPaths.columns = ['imagePath']"
   ]
  },
  {
   "cell_type": "code",
   "execution_count": 6,
   "metadata": {},
   "outputs": [],
   "source": [
    "labels = np.loadtxt('labels.csv', delimiter=\",\", dtype = np.int8)"
   ]
  },
  {
   "cell_type": "code",
   "execution_count": 7,
   "metadata": {},
   "outputs": [],
   "source": [
    "columns = [ 'epidural', 'intraparenchymal' , 'intraventricular' , 'subarachnoid', 'subdural', 'any']"
   ]
  },
  {
   "cell_type": "code",
   "execution_count": 8,
   "metadata": {},
   "outputs": [
    {
     "output_type": "execute_result",
     "data": {
      "text/plain": [
       "                                imagePath\n",
       "0       final_train/data/ID_12cadc6af.jpg\n",
       "1       final_train/data/ID_38fd7baa0.jpg\n",
       "2       final_train/data/ID_6c5d82413.jpg\n",
       "3       final_train/data/ID_aec8e68b3.jpg\n",
       "4       final_train/data/ID_4d9209c7c.jpg\n",
       "...                                   ...\n",
       "752802  final_train/data/ID_41029e8f0.jpg\n",
       "752803  final_train/data/ID_4b74ffd24.jpg\n",
       "752804  final_train/data/ID_e5c02a4ca.jpg\n",
       "752805  final_train/data/ID_8079930a8.jpg\n",
       "752806  final_train/data/ID_4a85a3a3f.jpg\n",
       "\n",
       "[752807 rows x 1 columns]"
      ],
      "text/html": "<div>\n<style scoped>\n    .dataframe tbody tr th:only-of-type {\n        vertical-align: middle;\n    }\n\n    .dataframe tbody tr th {\n        vertical-align: top;\n    }\n\n    .dataframe thead th {\n        text-align: right;\n    }\n</style>\n<table border=\"1\" class=\"dataframe\">\n  <thead>\n    <tr style=\"text-align: right;\">\n      <th></th>\n      <th>imagePath</th>\n    </tr>\n  </thead>\n  <tbody>\n    <tr>\n      <th>0</th>\n      <td>final_train/data/ID_12cadc6af.jpg</td>\n    </tr>\n    <tr>\n      <th>1</th>\n      <td>final_train/data/ID_38fd7baa0.jpg</td>\n    </tr>\n    <tr>\n      <th>2</th>\n      <td>final_train/data/ID_6c5d82413.jpg</td>\n    </tr>\n    <tr>\n      <th>3</th>\n      <td>final_train/data/ID_aec8e68b3.jpg</td>\n    </tr>\n    <tr>\n      <th>4</th>\n      <td>final_train/data/ID_4d9209c7c.jpg</td>\n    </tr>\n    <tr>\n      <th>...</th>\n      <td>...</td>\n    </tr>\n    <tr>\n      <th>752802</th>\n      <td>final_train/data/ID_41029e8f0.jpg</td>\n    </tr>\n    <tr>\n      <th>752803</th>\n      <td>final_train/data/ID_4b74ffd24.jpg</td>\n    </tr>\n    <tr>\n      <th>752804</th>\n      <td>final_train/data/ID_e5c02a4ca.jpg</td>\n    </tr>\n    <tr>\n      <th>752805</th>\n      <td>final_train/data/ID_8079930a8.jpg</td>\n    </tr>\n    <tr>\n      <th>752806</th>\n      <td>final_train/data/ID_4a85a3a3f.jpg</td>\n    </tr>\n  </tbody>\n</table>\n<p>752807 rows × 1 columns</p>\n</div>"
     },
     "metadata": {},
     "execution_count": 8
    }
   ],
   "source": [
    "imagesPaths['imageName'] = names"
   ]
  },
  {
   "cell_type": "code",
   "execution_count": 9,
   "metadata": {},
   "outputs": [],
   "source": [
    "data = pd.DataFrame(labels, columns = columns)"
   ]
  },
  {
   "cell_type": "code",
   "execution_count": 10,
   "metadata": {},
   "outputs": [],
   "source": [
    "data_final = pd.concat([imagesPaths, data], axis=1, sort=False)"
   ]
  },
  {
   "cell_type": "code",
   "execution_count": 11,
   "metadata": {},
   "outputs": [],
   "source": []
  },
  {
   "cell_type": "code",
   "execution_count": 12,
   "metadata": {},
   "outputs": [
    {
     "output_type": "execute_result",
     "data": {
      "text/plain": [
       "                                imagePath  epidural  intraparenchymal  \\\n",
       "0       final_train/data/ID_12cadc6af.jpg         0                 0   \n",
       "1       final_train/data/ID_38fd7baa0.jpg         0                 0   \n",
       "2       final_train/data/ID_6c5d82413.jpg         0                 0   \n",
       "3       final_train/data/ID_aec8e68b3.jpg         0                 0   \n",
       "4       final_train/data/ID_4d9209c7c.jpg         0                 0   \n",
       "...                                   ...       ...               ...   \n",
       "752802  final_train/data/ID_41029e8f0.jpg         0                 0   \n",
       "752803  final_train/data/ID_4b74ffd24.jpg         0                 0   \n",
       "752804  final_train/data/ID_e5c02a4ca.jpg         0                 0   \n",
       "752805  final_train/data/ID_8079930a8.jpg         0                 0   \n",
       "752806  final_train/data/ID_4a85a3a3f.jpg         0                 0   \n",
       "\n",
       "        intraventricular  subarachnoid  subdural  any     imageName  \n",
       "0                      0             0         0    0  ID_12cadc6af  \n",
       "1                      0             0         0    0  ID_38fd7baa0  \n",
       "2                      0             0         0    0  ID_6c5d82413  \n",
       "3                      0             1         0    1  ID_aec8e68b3  \n",
       "4                      0             0         0    0  ID_4d9209c7c  \n",
       "...                  ...           ...       ...  ...           ...  \n",
       "752802                 0             0         0    0  ID_41029e8f0  \n",
       "752803                 0             0         0    0  ID_4b74ffd24  \n",
       "752804                 0             0         0    0  ID_e5c02a4ca  \n",
       "752805                 0             0         0    0  ID_8079930a8  \n",
       "752806                 0             0         0    0  ID_4a85a3a3f  \n",
       "\n",
       "[752807 rows x 8 columns]"
      ],
      "text/html": "<div>\n<style scoped>\n    .dataframe tbody tr th:only-of-type {\n        vertical-align: middle;\n    }\n\n    .dataframe tbody tr th {\n        vertical-align: top;\n    }\n\n    .dataframe thead th {\n        text-align: right;\n    }\n</style>\n<table border=\"1\" class=\"dataframe\">\n  <thead>\n    <tr style=\"text-align: right;\">\n      <th></th>\n      <th>imagePath</th>\n      <th>epidural</th>\n      <th>intraparenchymal</th>\n      <th>intraventricular</th>\n      <th>subarachnoid</th>\n      <th>subdural</th>\n      <th>any</th>\n      <th>imageName</th>\n    </tr>\n  </thead>\n  <tbody>\n    <tr>\n      <th>0</th>\n      <td>final_train/data/ID_12cadc6af.jpg</td>\n      <td>0</td>\n      <td>0</td>\n      <td>0</td>\n      <td>0</td>\n      <td>0</td>\n      <td>0</td>\n      <td>ID_12cadc6af</td>\n    </tr>\n    <tr>\n      <th>1</th>\n      <td>final_train/data/ID_38fd7baa0.jpg</td>\n      <td>0</td>\n      <td>0</td>\n      <td>0</td>\n      <td>0</td>\n      <td>0</td>\n      <td>0</td>\n      <td>ID_38fd7baa0</td>\n    </tr>\n    <tr>\n      <th>2</th>\n      <td>final_train/data/ID_6c5d82413.jpg</td>\n      <td>0</td>\n      <td>0</td>\n      <td>0</td>\n      <td>0</td>\n      <td>0</td>\n      <td>0</td>\n      <td>ID_6c5d82413</td>\n    </tr>\n    <tr>\n      <th>3</th>\n      <td>final_train/data/ID_aec8e68b3.jpg</td>\n      <td>0</td>\n      <td>0</td>\n      <td>0</td>\n      <td>1</td>\n      <td>0</td>\n      <td>1</td>\n      <td>ID_aec8e68b3</td>\n    </tr>\n    <tr>\n      <th>4</th>\n      <td>final_train/data/ID_4d9209c7c.jpg</td>\n      <td>0</td>\n      <td>0</td>\n      <td>0</td>\n      <td>0</td>\n      <td>0</td>\n      <td>0</td>\n      <td>ID_4d9209c7c</td>\n    </tr>\n    <tr>\n      <th>...</th>\n      <td>...</td>\n      <td>...</td>\n      <td>...</td>\n      <td>...</td>\n      <td>...</td>\n      <td>...</td>\n      <td>...</td>\n      <td>...</td>\n    </tr>\n    <tr>\n      <th>752802</th>\n      <td>final_train/data/ID_41029e8f0.jpg</td>\n      <td>0</td>\n      <td>0</td>\n      <td>0</td>\n      <td>0</td>\n      <td>0</td>\n      <td>0</td>\n      <td>ID_41029e8f0</td>\n    </tr>\n    <tr>\n      <th>752803</th>\n      <td>final_train/data/ID_4b74ffd24.jpg</td>\n      <td>0</td>\n      <td>0</td>\n      <td>0</td>\n      <td>0</td>\n      <td>0</td>\n      <td>0</td>\n      <td>ID_4b74ffd24</td>\n    </tr>\n    <tr>\n      <th>752804</th>\n      <td>final_train/data/ID_e5c02a4ca.jpg</td>\n      <td>0</td>\n      <td>0</td>\n      <td>0</td>\n      <td>0</td>\n      <td>0</td>\n      <td>0</td>\n      <td>ID_e5c02a4ca</td>\n    </tr>\n    <tr>\n      <th>752805</th>\n      <td>final_train/data/ID_8079930a8.jpg</td>\n      <td>0</td>\n      <td>0</td>\n      <td>0</td>\n      <td>0</td>\n      <td>0</td>\n      <td>0</td>\n      <td>ID_8079930a8</td>\n    </tr>\n    <tr>\n      <th>752806</th>\n      <td>final_train/data/ID_4a85a3a3f.jpg</td>\n      <td>0</td>\n      <td>0</td>\n      <td>0</td>\n      <td>0</td>\n      <td>0</td>\n      <td>0</td>\n      <td>ID_4a85a3a3f</td>\n    </tr>\n  </tbody>\n</table>\n<p>752807 rows × 8 columns</p>\n</div>"
     },
     "metadata": {},
     "execution_count": 12
    }
   ],
   "source": [
    "data_final"
   ]
  },
  {
   "cell_type": "code",
   "execution_count": 13,
   "metadata": {},
   "outputs": [],
   "source": [
    "data_final.to_csv('dataframe.csv', index = False)"
   ]
  }
 ]
}