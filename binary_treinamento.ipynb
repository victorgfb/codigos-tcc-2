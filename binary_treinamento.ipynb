{
 "cells": [
  {
   "cell_type": "code",
   "execution_count": null,
   "metadata": {
    "colab": {
     "base_uri": "https://localhost:8080/"
    },
    "id": "yQA8glZYFdXo",
    "outputId": "2309174c-cbb3-428f-a2d5-7cbc7bb662fe"
   },
   "outputs": [],
   "source": [
    "!pip install googleDriveFileDownloader"
   ]
  },
  {
   "cell_type": "code",
   "execution_count": null,
   "metadata": {
    "id": "Q-066HTzFm9f"
   },
   "outputs": [],
   "source": [
    "from google_drive_downloader import GoogleDriveDownloader as gdd\n",
    "import pandas as pd\n",
    "import numpy as np"
   ]
  },
  {
   "cell_type": "code",
   "execution_count": null,
   "metadata": {
    "id": "tBwyfqdxJ7WP"
   },
   "outputs": [],
   "source": [
    "import tensorflow as tf\n",
    "from skimage import data, exposure, img_as_float\n",
    "import cv2\n",
    "from imutils import paths\n",
    "import random\n",
    "from tensorflow.keras.preprocessing.image import img_to_array\n",
    "from PIL import ImageMath\n",
    "import numpy as np\n",
    "from sklearn.model_selection import train_test_split\n",
    "import gc\n",
    "from tensorflow.keras.preprocessing.image import ImageDataGenerator\n",
    "import matplotlib.pyplot as plt\n",
    "import pandas as pd\n",
    "import zipfile\n",
    "from sklearn.utils import class_weight"
   ]
  },
  {
   "cell_type": "code",
   "execution_count": null,
   "metadata": {
    "id": "DAdL6GPrp72g"
   },
   "outputs": [],
   "source": [
    "from keras.callbacks import ModelCheckpoint"
   ]
  },
  {
   "cell_type": "code",
   "execution_count": null,
   "metadata": {
    "id": "WvsB_eC3FYRr"
   },
   "outputs": [],
   "source": [
    "# !rm -R final_train"
   ]
  },
  {
   "cell_type": "code",
   "execution_count": null,
   "metadata": {
    "colab": {
     "base_uri": "https://localhost:8080/"
    },
    "id": "PmuWd6jsFpIr",
    "outputId": "0278e8cc-ec40-4012-fa07-a9ac5dcac188"
   },
   "outputs": [],
   "source": [
    "gdd.download_file_from_google_drive(file_id='1A-bd5bkoUxMMjjblw_h34oepBzLy2WI4',\n",
    "                                    dest_path='./final_train.zip',\n",
    "                                    unzip=True)"
   ]
  },
  {
   "cell_type": "code",
   "execution_count": null,
   "metadata": {
    "colab": {
     "base_uri": "https://localhost:8080/"
    },
    "id": "zbffuasCZjXV",
    "outputId": "da9fe8b7-cab5-400e-cf58-d8988c2b3e35"
   },
   "outputs": [],
   "source": [
    "gdd.download_file_from_google_drive(file_id='1lPIgVTvL-HaYlBj7_8DDDa3oz53pjrv0',\n",
    "                                    dest_path='./binary.zip',\n",
    "                                    unzip=True)"
   ]
  },
  {
   "cell_type": "code",
   "execution_count": null,
   "metadata": {
    "id": "j664rK5uGjSt"
   },
   "outputs": [],
   "source": [
    "teste = pd.read_csv('binary_teste.csv')\n",
    "  \n",
    "train = pd.read_csv('binary_train.csv')"
   ]
  },
  {
   "cell_type": "code",
   "execution_count": null,
   "metadata": {
    "id": "XuV0Dq-L8ZDC"
   },
   "outputs": [],
   "source": [
    "train = train.sample(frac=1).reset_index(drop=True)\n",
    "teste = teste.sample(frac=1).reset_index(drop=True)"
   ]
  },
  {
   "cell_type": "code",
   "execution_count": null,
   "metadata": {
    "id": "jRISK0znJSaT"
   },
   "outputs": [],
   "source": [
    "train.drop(columns= ['imageName'], inplace=True)\n",
    "teste.drop(columns= ['imageName'], inplace=True)"
   ]
  },
  {
   "cell_type": "code",
   "execution_count": null,
   "metadata": {
    "id": "YE9LPTvwLEjZ"
   },
   "outputs": [],
   "source": [
    "train['imagePath'] = train['imagePath'].str.replace('final_train/data/', '')\n",
    "teste['imagePath'] = teste['imagePath'].str.replace('final_train/data/', '')"
   ]
  },
  {
   "cell_type": "code",
   "execution_count": null,
   "metadata": {
    "id": "ND7hc6c8hDcq"
   },
   "outputs": [],
   "source": [
    "\n",
    "train[\"any\"] = train[\"any\"].astype('string')\n",
    "teste[\"any\"] = teste[\"any\"].astype('string')"
   ]
  },
  {
   "cell_type": "code",
   "execution_count": null,
   "metadata": {
    "id": "3-OT_lRhLFl-"
   },
   "outputs": [],
   "source": [
    "data_gen = ImageDataGenerator( rescale = 1/255. )\n",
    "\n",
    "\n",
    "test_gen = ImageDataGenerator(rescale = 1/255.)"
   ]
  },
  {
   "cell_type": "code",
   "execution_count": null,
   "metadata": {
    "colab": {
     "base_uri": "https://localhost:8080/"
    },
    "id": "K5K-9FtCLQ8h",
    "outputId": "a0a0d97c-802c-4945-b8b6-e4005050ac2b"
   },
   "outputs": [],
   "source": [
    "train_generator = data_gen.flow_from_dataframe(dataframe=train,\n",
    "x_col=\"imagePath\",\n",
    "y_col=\"any\",\n",
    "directory = './final_train/data/',\n",
    "batch_size=32,\n",
    "seed=42,\n",
    "shuffle=True,\n",
    "class_mode=\"binary\",\n",
    "target_size=(224,224))"
   ]
  },
  {
   "cell_type": "code",
   "execution_count": null,
   "metadata": {
    "colab": {
     "base_uri": "https://localhost:8080/"
    },
    "id": "m0NIA0VSLcCz",
    "outputId": "261b743b-6bb2-449d-805a-63cc86502f4d"
   },
   "outputs": [],
   "source": [
    "test_generator = test_gen.flow_from_dataframe(dataframe=teste,\n",
    "x_col=\"imagePath\",\n",
    "y_col=\"any\",\n",
    "directory = './final_train/data/',\n",
    "batch_size=32,\n",
    "seed=42,\n",
    "shuffle=True,\n",
    "class_mode=\"binary\",\n",
    "target_size=(224,224))"
   ]
  },
  {
   "cell_type": "code",
   "execution_count": null,
   "metadata": {
    "id": "ezsTDiMBL3BF"
   },
   "outputs": [],
   "source": [
    "img_shape = (224,224,3)"
   ]
  },
  {
   "cell_type": "code",
   "execution_count": null,
   "metadata": {
    "colab": {
     "base_uri": "https://localhost:8080/"
    },
    "id": "UkjsS-VzLxOR",
    "outputId": "db8ad4a3-8954-47a9-fea0-04c2293a2a75"
   },
   "outputs": [],
   "source": [
    "\n",
    "\n",
    "base_model = tf.keras.applications.InceptionV3(input_shape = img_shape, \n",
    "                                               include_top = False,\n",
    "                                               weights = \"imagenet\")\n"
   ]
  },
  {
   "cell_type": "code",
   "execution_count": null,
   "metadata": {
    "id": "cbBo45tCMrCa"
   },
   "outputs": [],
   "source": [
    "base_model.trainable = False"
   ]
  },
  {
   "cell_type": "code",
   "execution_count": null,
   "metadata": {
    "id": "-HLNogS8S9uA"
   },
   "outputs": [],
   "source": [
    "model = tf.keras.Sequential()\n",
    "model.add(base_model)\n",
    "model.add(tf.keras.layers.Flatten())\n",
    "model.add(tf.keras.layers.Dense(1024, activation='relu'))\n",
    "model.add(tf.keras.layers.Dropout(0.25))\n",
    "model.add(tf.keras.layers.Dense(1024, activation='relu'))\n",
    "model.add(tf.keras.layers.Dropout(0.25))\n",
    "model.add(tf.keras.layers.Dense(512, activation='relu'))\n",
    "model.add(tf.keras.layers.Dense(1, activation='sigmoid'))"
   ]
  },
  {
   "cell_type": "code",
   "execution_count": null,
   "metadata": {
    "id": "jZ22bibQMMM4"
   },
   "outputs": [],
   "source": [
    "lrate = 0.00001\n",
    "epochs = 90000\n",
    "optimizer = tf.keras.optimizers.Adam(learning_rate=lrate)"
   ]
  },
  {
   "cell_type": "code",
   "execution_count": null,
   "metadata": {
    "id": "f4XU5eM34nfK"
   },
   "outputs": [],
   "source": [
    "from git import Repo\n",
    "\n",
    "PATH_OF_GIT_REPO = r'/content/binary-inception/.git'\n",
    "COMMIT_MESSAGE = 'update'\n",
    "\n",
    "def git_push():\n",
    "    try:\n",
    "        repo = Repo(PATH_OF_GIT_REPO)\n",
    "        repo.git.add(update=True)\n",
    "        repo.index.commit(COMMIT_MESSAGE)\n",
    "        origin = repo.remote(name='origin')\n",
    "        origin.push()\n",
    "    except:\n",
    "        print('Some error occured while pushing the code')    \n"
   ]
  },
  {
   "cell_type": "code",
   "execution_count": null,
   "metadata": {
    "id": "-fd_ASIE43MV"
   },
   "outputs": [],
   "source": [
    "from threading import Timer,Thread,Event\n",
    "\n",
    "class perpetualTimer():\n",
    "\n",
    "   def __init__(self,t,hFunction):\n",
    "      self.t=t\n",
    "      self.hFunction = hFunction\n",
    "      self.thread = Timer(self.t,self.handle_function)\n",
    "\n",
    "   def handle_function(self):\n",
    "      self.hFunction()\n",
    "      self.thread = Timer(self.t,self.handle_function)\n",
    "      self.thread.start()\n",
    "\n",
    "   def start(self):\n",
    "      self.thread.start()\n",
    "\n",
    "   def cancel(self):\n",
    "      self.thread.cancel()\n"
   ]
  },
  {
   "cell_type": "code",
   "execution_count": null,
   "metadata": {
    "id": "Dtt5Ox1w482c"
   },
   "outputs": [],
   "source": [
    "t = perpetualTimer(700, git_push)\n",
    "t.start()"
   ]
  },
  {
   "cell_type": "code",
   "execution_count": null,
   "metadata": {
    "id": "mCx4LzF5437e"
   },
   "outputs": [],
   "source": [
    "stop = tf.keras.callbacks.EarlyStopping(monitor='val_loss', patience=20)"
   ]
  },
  {
   "cell_type": "code",
   "execution_count": null,
   "metadata": {
    "colab": {
     "base_uri": "https://localhost:8080/"
    },
    "id": "NHYpbKRr8gOj",
    "outputId": "b1d80429-6937-4ffb-e9e8-1968ca6581ff"
   },
   "outputs": [],
   "source": [
    "checkpoint = ModelCheckpoint(\"binary-inception/binary_inception_100.hdf5\", monitor='val_loss', verbose=1,\n",
    "    save_best_only=True, mode='auto', period=1)"
   ]
  },
  {
   "cell_type": "code",
   "execution_count": null,
   "metadata": {
    "id": "RPvkOdj4MM7A"
   },
   "outputs": [],
   "source": [
    "model.compile(optimizer=optimizer, loss = 'binary_crossentropy', metrics=['MSE','accuracy', tf.keras.metrics.Recall(),tf.keras.metrics.Precision()])"
   ]
  },
  {
   "cell_type": "code",
   "execution_count": null,
   "metadata": {
    "colab": {
     "base_uri": "https://localhost:8080/"
    },
    "id": "PIF40G7tMPHj",
    "outputId": "a4fa6a28-2592-4dfb-a893-59b5f0651227"
   },
   "outputs": [],
   "source": [
    "\n",
    "history = model.fit(train_generator, validation_data = test_generator, epochs= epochs, verbose=1,callbacks=[checkpoint, stop])"
   ]
  },
  {
   "cell_type": "markdown",
   "metadata": {
    "id": "q-qiSJ5OhkZA"
   },
   "source": []
  },
  {
   "cell_type": "code",
   "execution_count": null,
   "metadata": {
    "colab": {
     "base_uri": "https://localhost:8080/",
     "height": 231
    },
    "id": "hpovEMXAMUcI",
    "outputId": "74151772-5b6e-40df-ee58-0417f344af41"
   },
   "outputs": [],
   "source": [
    "plt.plot(history.history['accuracy'])\n",
    "plt.title('model accuracy')\n",
    "plt.ylabel('accuracy')\n",
    "plt.xlabel('epoch')\n",
    "plt.legend(['train', 'test'], loc='upper left')\n",
    "plt.show()"
   ]
  }
 ],
 "metadata": {
  "accelerator": "GPU",
  "colab": {
   "collapsed_sections": [],
   "name": "binary-inception.ipynb",
   "provenance": []
  },
  "kernelspec": {
   "display_name": "Python 3",
   "language": "python",
   "name": "python3"
  },
  "language_info": {
   "codemirror_mode": {
    "name": "ipython",
    "version": 3
   },
   "file_extension": ".py",
   "mimetype": "text/x-python",
   "name": "python",
   "nbconvert_exporter": "python",
   "pygments_lexer": "ipython3",
   "version": "3.9.5"
  }
 },
 "nbformat": 4,
 "nbformat_minor": 1
}
