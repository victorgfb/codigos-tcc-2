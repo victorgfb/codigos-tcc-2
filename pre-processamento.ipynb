{
 "cells": [
  {
   "cell_type": "code",
   "execution_count": null,
   "metadata": {
    "_cell_guid": "79c7e3d0-c299-4dcb-8224-4455121ee9b0",
    "_uuid": "d629ff2d2480ee46fbb7e2d37f6b5fab8052498a"
   },
   "outputs": [],
   "source": [
    "import os\n",
    "import pydicom \n",
    "from pydicom import dcmread\n",
    "import matplotlib.pyplot as plt\n",
    "from cv2 import cv2\n",
    "from PIL import Image\n",
    "import os\n",
    "import pandas as pd\n",
    "import time\n",
    "import zipfile\n",
    "from tqdm import tqdm\n",
    "\n",
    "data_zip = zipfile.ZipFile('data.zip', 'w')"
   ]
  },
  {
   "cell_type": "code",
   "execution_count": null,
   "metadata": {},
   "outputs": [],
   "source": [
    "#FONTE: https://www.kaggle.com/redwankarimsony/ct-scans-dicom-files-windowing-explained\n",
    "\n",
    "def return_transform_img(ds, window_center, window_width):\n",
    "    img = ds.pixel_array\n",
    "    ds.pixel_array\n",
    "#     print(img.shape)\n",
    "    intercept = ds[('0028','1052')].value\n",
    "    slope = ds[('0028','1053')].value\n",
    "\n",
    "    img = (img*slope +intercept)\n",
    "    img_min = window_center - window_width//2\n",
    "    img_max = window_center + window_width//2\n",
    "    img[img<img_min] = img_min\n",
    "    img[img>img_max] = img_max\n",
    "\n",
    "    img = (img - img_min) / (img_max - img_min)\n",
    "\n",
    "    return img\n",
    "\n",
    "train_folder = 'train'\n",
    "\n",
    "dicom_names = pd.read_csv('../input/testinho/train_dicom_names.csv').values\n",
    "\n",
    "if not os.path.exists(train_folder):\n",
    "    os.mkdir(train_folder)"
   ]
  },
  {
   "cell_type": "code",
   "execution_count": null,
   "metadata": {},
   "outputs": [],
   "source": [
    "for name in tqdm(dicom_names[0:752807]):\n",
    "\n",
    "    time.sleep(.300)\n",
    "\n",
    "    fileName = name[0]\n",
    "    ds = pydicom.read_file('../input/rsna-intracranial-hemorrhage-detection/rsna-intracranial-hemorrhage-detection/stage_2_train/' + fileName + \".dcm\") # read dicom image\n",
    "\n",
    "    img_subdural = return_transform_img(ds, 80, 200)\n",
    "    img_brain = return_transform_img(ds, 40, 80)\n",
    "    img_bone = return_transform_img(ds, 600, 2800)\n",
    "\n",
    "    cmap = plt.cm.gray\n",
    "\n",
    "    if not os.path.exists(train_folder + '/' +fileName):\n",
    "        os.mkdir(train_folder + '/' +fileName)\n",
    "\n",
    "    image = cmap(img_subdural)\n",
    "    plt.imsave('test.jpg', image)\n",
    "    img_pil = Image.open('test.jpg')\n",
    "    img = img_pil.resize((224,224), Image.ANTIALIAS)\n",
    "    img.save(train_folder + '/' +fileName + '/subdural.jpg')\n",
    "    data_zip.write(train_folder + '/' +fileName + '/subdural.jpg', compress_type=zipfile.ZIP_DEFLATED)\n",
    "\n",
    "    image = cmap(img_brain)\n",
    "    plt.imsave('test.jpg', image)\n",
    "    img_pil = Image.open('test.jpg')\n",
    "    img = img_pil.resize((224,224), Image.ANTIALIAS)\n",
    "    img.save(train_folder + '/' + fileName + '/brain.jpg')\n",
    "    data_zip.write(train_folder + '/' +fileName + '/brain.jpg', compress_type=zipfile.ZIP_DEFLATED)\n",
    "    \n",
    "    image = cmap(img_bone)\n",
    "    plt.imsave('test.jpg', image)\n",
    "    img_pil = Image.open('test.jpg')\n",
    "    img = img_pil.resize((224,224), Image.ANTIALIAS)\n",
    "    img.save(train_folder + '/' +fileName + '/bone.jpg')\n",
    "    data_zip.write(train_folder + '/' +fileName + '/bone.jpg', compress_type=zipfile.ZIP_DEFLATED)\n",
    "    \n",
    "    os.system('rm ' + fileName + '.dcm')"
   ]
  },
  {
   "cell_type": "code",
   "execution_count": null,
   "metadata": {},
   "outputs": [],
   "source": [
    "data_zip.close()"
   ]
  },
  {
   "cell_type": "code",
   "execution_count": null,
   "metadata": {},
   "outputs": [],
   "source": [
    "import os\n",
    "os.chdir(r'/kaggle/working')"
   ]
  },
  {
   "cell_type": "code",
   "execution_count": null,
   "metadata": {},
   "outputs": [],
   "source": [
    "from IPython.display import FileLink\n",
    "FileLink(r'data.zip')"
   ]
  }
 ],
 "metadata": {
  "kernelspec": {
   "display_name": "Python 3",
   "language": "python",
   "name": "python3"
  },
  "language_info": {
   "codemirror_mode": {
    "name": "ipython",
    "version": 3
   },
   "file_extension": ".py",
   "mimetype": "text/x-python",
   "name": "python",
   "nbconvert_exporter": "python",
   "pygments_lexer": "ipython3",
   "version": "3.9.5"
  }
 },
 "nbformat": 4,
 "nbformat_minor": 4
}
