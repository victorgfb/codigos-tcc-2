{
 "cells": [
  {
   "cell_type": "code",
   "execution_count": null,
   "metadata": {
    "colab": {
     "base_uri": "https://localhost:8080/"
    },
    "executionInfo": {
     "elapsed": 4936,
     "status": "ok",
     "timestamp": 1618966176392,
     "user": {
      "displayName": "Victor Barbosa",
      "photoUrl": "https://lh3.googleusercontent.com/a-/AOh14Gi7VdrCuKHAhg6DiK85v9zSQn_hBC6RoRX0XtffAg=s64",
      "userId": "11691659511021961113"
     },
     "user_tz": 180
    },
    "id": "yQA8glZYFdXo",
    "outputId": "fbc65640-5008-4632-c7ad-15fd8aa9f86a"
   },
   "outputs": [],
   "source": [
    "!pip install googleDriveFileDownloader"
   ]
  },
  {
   "cell_type": "code",
   "execution_count": null,
   "metadata": {
    "executionInfo": {
     "elapsed": 202694,
     "status": "ok",
     "timestamp": 1618966374163,
     "user": {
      "displayName": "Victor Barbosa",
      "photoUrl": "https://lh3.googleusercontent.com/a-/AOh14Gi7VdrCuKHAhg6DiK85v9zSQn_hBC6RoRX0XtffAg=s64",
      "userId": "11691659511021961113"
     },
     "user_tz": 180
    },
    "id": "Q-066HTzFm9f"
   },
   "outputs": [],
   "source": [
    "from google_drive_downloader import GoogleDriveDownloader as gdd\n",
    "import pandas as pd\n",
    "import numpy as np"
   ]
  },
  {
   "cell_type": "code",
   "execution_count": null,
   "metadata": {
    "executionInfo": {
     "elapsed": 205252,
     "status": "ok",
     "timestamp": 1618966376727,
     "user": {
      "displayName": "Victor Barbosa",
      "photoUrl": "https://lh3.googleusercontent.com/a-/AOh14Gi7VdrCuKHAhg6DiK85v9zSQn_hBC6RoRX0XtffAg=s64",
      "userId": "11691659511021961113"
     },
     "user_tz": 180
    },
    "id": "tBwyfqdxJ7WP"
   },
   "outputs": [],
   "source": [
    "import tensorflow as tf\n",
    "from skimage import data, exposure, img_as_float\n",
    "import cv2\n",
    "from imutils import paths\n",
    "import random\n",
    "from tensorflow.keras.preprocessing.image import img_to_array\n",
    "from PIL import ImageMath\n",
    "import numpy as np\n",
    "from sklearn.model_selection import train_test_split\n",
    "import gc\n",
    "from tensorflow.keras.preprocessing.image import ImageDataGenerator\n",
    "import matplotlib.pyplot as plt\n",
    "import pandas as pd\n",
    "import zipfile\n",
    "from sklearn.utils import class_weight"
   ]
  },
  {
   "cell_type": "code",
   "execution_count": null,
   "metadata": {
    "executionInfo": {
     "elapsed": 205252,
     "status": "ok",
     "timestamp": 1618966376733,
     "user": {
      "displayName": "Victor Barbosa",
      "photoUrl": "https://lh3.googleusercontent.com/a-/AOh14Gi7VdrCuKHAhg6DiK85v9zSQn_hBC6RoRX0XtffAg=s64",
      "userId": "11691659511021961113"
     },
     "user_tz": 180
    },
    "id": "DAdL6GPrp72g"
   },
   "outputs": [],
   "source": [
    "from keras.callbacks import ModelCheckpoint"
   ]
  },
  {
   "cell_type": "code",
   "execution_count": null,
   "metadata": {
    "colab": {
     "base_uri": "https://localhost:8080/"
    },
    "executionInfo": {
     "elapsed": 393786,
     "status": "ok",
     "timestamp": 1618966565301,
     "user": {
      "displayName": "Victor Barbosa",
      "photoUrl": "https://lh3.googleusercontent.com/a-/AOh14Gi7VdrCuKHAhg6DiK85v9zSQn_hBC6RoRX0XtffAg=s64",
      "userId": "11691659511021961113"
     },
     "user_tz": 180
    },
    "id": "PmuWd6jsFpIr",
    "outputId": "df1af769-0c3d-463f-c4d0-b4f2a5f7a4e0"
   },
   "outputs": [],
   "source": [
    "gdd.download_file_from_google_drive(file_id='1A-bd5bkoUxMMjjblw_h34oepBzLy2WI4',\n",
    "                                    dest_path='./final_train.zip',\n",
    "                                    unzip=True)"
   ]
  },
  {
   "cell_type": "code",
   "execution_count": null,
   "metadata": {
    "colab": {
     "base_uri": "https://localhost:8080/"
    },
    "executionInfo": {
     "elapsed": 397899,
     "status": "ok",
     "timestamp": 1618966569418,
     "user": {
      "displayName": "Victor Barbosa",
      "photoUrl": "https://lh3.googleusercontent.com/a-/AOh14Gi7VdrCuKHAhg6DiK85v9zSQn_hBC6RoRX0XtffAg=s64",
      "userId": "11691659511021961113"
     },
     "user_tz": 180
    },
    "id": "T95syHzAXbE6",
    "outputId": "55ff3bcb-ce77-44bb-9a15-d961c4fd9f0d"
   },
   "outputs": [],
   "source": [
    "gdd.download_file_from_google_drive(file_id='1fHtcKIox4kEciV8Ti5XvVfVaSaGlhJhG',\n",
    "                                    dest_path='./final.zip',\n",
    "                                    unzip=True)"
   ]
  },
  {
   "cell_type": "code",
   "execution_count": null,
   "metadata": {
    "executionInfo": {
     "elapsed": 398366,
     "status": "ok",
     "timestamp": 1618966569888,
     "user": {
      "displayName": "Victor Barbosa",
      "photoUrl": "https://lh3.googleusercontent.com/a-/AOh14Gi7VdrCuKHAhg6DiK85v9zSQn_hBC6RoRX0XtffAg=s64",
      "userId": "11691659511021961113"
     },
     "user_tz": 180
    },
    "id": "j664rK5uGjSt"
   },
   "outputs": [],
   "source": [
    "teste = pd.read_csv('final_train_df.csv')\n",
    "  \n",
    "train = pd.read_csv('final_test_df.csv')"
   ]
  },
  {
   "cell_type": "code",
   "execution_count": null,
   "metadata": {
    "colab": {
     "base_uri": "https://localhost:8080/",
     "height": 419
    },
    "executionInfo": {
     "elapsed": 398351,
     "status": "ok",
     "timestamp": 1618966569891,
     "user": {
      "displayName": "Victor Barbosa",
      "photoUrl": "https://lh3.googleusercontent.com/a-/AOh14Gi7VdrCuKHAhg6DiK85v9zSQn_hBC6RoRX0XtffAg=s64",
      "userId": "11691659511021961113"
     },
     "user_tz": 180
    },
    "id": "VM_BaYNA1ig1",
    "outputId": "c896cf8d-993f-4b04-8e7f-88489c84592a"
   },
   "outputs": [],
   "source": [
    "train"
   ]
  },
  {
   "cell_type": "code",
   "execution_count": null,
   "metadata": {
    "executionInfo": {
     "elapsed": 398341,
     "status": "ok",
     "timestamp": 1618966569895,
     "user": {
      "displayName": "Victor Barbosa",
      "photoUrl": "https://lh3.googleusercontent.com/a-/AOh14Gi7VdrCuKHAhg6DiK85v9zSQn_hBC6RoRX0XtffAg=s64",
      "userId": "11691659511021961113"
     },
     "user_tz": 180
    },
    "id": "XuV0Dq-L8ZDC"
   },
   "outputs": [],
   "source": [
    "train = train.sample(frac=1).reset_index(drop=True)\n",
    "teste = teste.sample(frac=1).reset_index(drop=True)"
   ]
  },
  {
   "cell_type": "code",
   "execution_count": null,
   "metadata": {
    "executionInfo": {
     "elapsed": 398345,
     "status": "ok",
     "timestamp": 1618966569902,
     "user": {
      "displayName": "Victor Barbosa",
      "photoUrl": "https://lh3.googleusercontent.com/a-/AOh14Gi7VdrCuKHAhg6DiK85v9zSQn_hBC6RoRX0XtffAg=s64",
      "userId": "11691659511021961113"
     },
     "user_tz": 180
    },
    "id": "jRISK0znJSaT"
   },
   "outputs": [],
   "source": [
    "train.drop(columns= ['imageName'], inplace=True)\n",
    "teste.drop(columns= ['imageName'], inplace=True)"
   ]
  },
  {
   "cell_type": "code",
   "execution_count": null,
   "metadata": {
    "executionInfo": {
     "elapsed": 398633,
     "status": "ok",
     "timestamp": 1618966570193,
     "user": {
      "displayName": "Victor Barbosa",
      "photoUrl": "https://lh3.googleusercontent.com/a-/AOh14Gi7VdrCuKHAhg6DiK85v9zSQn_hBC6RoRX0XtffAg=s64",
      "userId": "11691659511021961113"
     },
     "user_tz": 180
    },
    "id": "YE9LPTvwLEjZ"
   },
   "outputs": [],
   "source": [
    "train['imagePath'] = train['imagePath'].str.replace('final_train/data/', '')\n",
    "teste['imagePath'] = teste['imagePath'].str.replace('final_train/data/', '')"
   ]
  },
  {
   "cell_type": "code",
   "execution_count": null,
   "metadata": {
    "executionInfo": {
     "elapsed": 398617,
     "status": "ok",
     "timestamp": 1618966570198,
     "user": {
      "displayName": "Victor Barbosa",
      "photoUrl": "https://lh3.googleusercontent.com/a-/AOh14Gi7VdrCuKHAhg6DiK85v9zSQn_hBC6RoRX0XtffAg=s64",
      "userId": "11691659511021961113"
     },
     "user_tz": 180
    },
    "id": "YWPyu6ff6InR"
   },
   "outputs": [],
   "source": [
    "for col in ['epidural', 'intraparenchymal', 'intraventricular',\n",
    "       'subarachnoid', 'subdural', 'any']:\n",
    "    train[col] = train[col].astype('float32')\n",
    "    teste[col] = teste[col].astype('float32')"
   ]
  },
  {
   "cell_type": "code",
   "execution_count": null,
   "metadata": {
    "executionInfo": {
     "elapsed": 398612,
     "status": "ok",
     "timestamp": 1618966570201,
     "user": {
      "displayName": "Victor Barbosa",
      "photoUrl": "https://lh3.googleusercontent.com/a-/AOh14Gi7VdrCuKHAhg6DiK85v9zSQn_hBC6RoRX0XtffAg=s64",
      "userId": "11691659511021961113"
     },
     "user_tz": 180
    },
    "id": "3-OT_lRhLFl-"
   },
   "outputs": [],
   "source": [
    "data_gen = ImageDataGenerator(rescale = 1/255.)\n",
    "\n",
    "test_gen = ImageDataGenerator(rescale = 1/255.)"
   ]
  },
  {
   "cell_type": "code",
   "execution_count": null,
   "metadata": {
    "executionInfo": {
     "elapsed": 398609,
     "status": "ok",
     "timestamp": 1618966570203,
     "user": {
      "displayName": "Victor Barbosa",
      "photoUrl": "https://lh3.googleusercontent.com/a-/AOh14Gi7VdrCuKHAhg6DiK85v9zSQn_hBC6RoRX0XtffAg=s64",
      "userId": "11691659511021961113"
     },
     "user_tz": 180
    },
    "id": "Cb4-IwDMLOZH"
   },
   "outputs": [],
   "source": [
    "columns = [ 'epidural', 'intraparenchymal' , 'intraventricular' , 'subarachnoid', 'subdural', 'any']\n"
   ]
  },
  {
   "cell_type": "code",
   "execution_count": null,
   "metadata": {
    "colab": {
     "base_uri": "https://localhost:8080/"
    },
    "executionInfo": {
     "elapsed": 399185,
     "status": "ok",
     "timestamp": 1618966570793,
     "user": {
      "displayName": "Victor Barbosa",
      "photoUrl": "https://lh3.googleusercontent.com/a-/AOh14Gi7VdrCuKHAhg6DiK85v9zSQn_hBC6RoRX0XtffAg=s64",
      "userId": "11691659511021961113"
     },
     "user_tz": 180
    },
    "id": "K5K-9FtCLQ8h",
    "outputId": "ba41734c-24d8-41ff-9298-d07f05f78655"
   },
   "outputs": [],
   "source": [
    "train_generator = data_gen.flow_from_dataframe(dataframe=train,\n",
    "x_col=\"imagePath\",\n",
    "y_col=columns,\n",
    "directory = './final_train/data/',\n",
    "batch_size=32,\n",
    "seed=42,\n",
    "shuffle=True,\n",
    "class_mode=\"raw\",\n",
    "target_size=(224,224))"
   ]
  },
  {
   "cell_type": "code",
   "execution_count": null,
   "metadata": {
    "colab": {
     "base_uri": "https://localhost:8080/"
    },
    "executionInfo": {
     "elapsed": 400247,
     "status": "ok",
     "timestamp": 1618966571864,
     "user": {
      "displayName": "Victor Barbosa",
      "photoUrl": "https://lh3.googleusercontent.com/a-/AOh14Gi7VdrCuKHAhg6DiK85v9zSQn_hBC6RoRX0XtffAg=s64",
      "userId": "11691659511021961113"
     },
     "user_tz": 180
    },
    "id": "m0NIA0VSLcCz",
    "outputId": "54b37252-f777-4cb4-89bc-393263e8f510"
   },
   "outputs": [],
   "source": [
    "test_generator = test_gen.flow_from_dataframe(dataframe=teste,\n",
    "x_col=\"imagePath\",\n",
    "y_col=columns,\n",
    "directory = './final_train/data/',\n",
    "batch_size=32,\n",
    "seed=42,\n",
    "shuffle=True,\n",
    "class_mode=\"raw\",\n",
    "target_size=(224,224))"
   ]
  },
  {
   "cell_type": "code",
   "execution_count": null,
   "metadata": {
    "executionInfo": {
     "elapsed": 400246,
     "status": "ok",
     "timestamp": 1618966571867,
     "user": {
      "displayName": "Victor Barbosa",
      "photoUrl": "https://lh3.googleusercontent.com/a-/AOh14Gi7VdrCuKHAhg6DiK85v9zSQn_hBC6RoRX0XtffAg=s64",
      "userId": "11691659511021961113"
     },
     "user_tz": 180
    },
    "id": "ezsTDiMBL3BF"
   },
   "outputs": [],
   "source": [
    "img_shape = (224,224,3)"
   ]
  },
  {
   "cell_type": "code",
   "execution_count": null,
   "metadata": {
    "colab": {
     "base_uri": "https://localhost:8080/"
    },
    "executionInfo": {
     "elapsed": 403501,
     "status": "ok",
     "timestamp": 1618966575125,
     "user": {
      "displayName": "Victor Barbosa",
      "photoUrl": "https://lh3.googleusercontent.com/a-/AOh14Gi7VdrCuKHAhg6DiK85v9zSQn_hBC6RoRX0XtffAg=s64",
      "userId": "11691659511021961113"
     },
     "user_tz": 180
    },
    "id": "UkjsS-VzLxOR",
    "outputId": "8f2de1d3-e8cf-47b3-ff50-3758d20536eb"
   },
   "outputs": [],
   "source": [
    "# base_model = tf.keras.applications.VGG16(input_shape = img_shape, \n",
    "#                                                include_top = False,\n",
    "#                                                weights = \"imagenet\")\n",
    "\n",
    "base_model = tf.keras.applications.InceptionV3(input_shape = img_shape, \n",
    "                                               include_top = False,\n",
    "                                               weights = \"imagenet\")\n",
    "\n",
    "# base_model = tf.keras.applications.ResNet50(input_shape = img_shape, \n",
    "#                                                include_top = False,\n",
    "#                                                weights = \"imagenet\")"
   ]
  },
  {
   "cell_type": "code",
   "execution_count": null,
   "metadata": {
    "executionInfo": {
     "elapsed": 403499,
     "status": "ok",
     "timestamp": 1618966575126,
     "user": {
      "displayName": "Victor Barbosa",
      "photoUrl": "https://lh3.googleusercontent.com/a-/AOh14Gi7VdrCuKHAhg6DiK85v9zSQn_hBC6RoRX0XtffAg=s64",
      "userId": "11691659511021961113"
     },
     "user_tz": 180
    },
    "id": "cbBo45tCMrCa"
   },
   "outputs": [],
   "source": [
    "base_model.trainable = False"
   ]
  },
  {
   "cell_type": "code",
   "execution_count": null,
   "metadata": {
    "colab": {
     "base_uri": "https://localhost:8080/"
    },
    "executionInfo": {
     "elapsed": 403488,
     "status": "ok",
     "timestamp": 1618966575127,
     "user": {
      "displayName": "Victor Barbosa",
      "photoUrl": "https://lh3.googleusercontent.com/a-/AOh14Gi7VdrCuKHAhg6DiK85v9zSQn_hBC6RoRX0XtffAg=s64",
      "userId": "11691659511021961113"
     },
     "user_tz": 180
    },
    "id": "gn51yOWQEfNP",
    "outputId": "e6d70df6-05c3-4611-aaaf-969a54aef785"
   },
   "outputs": [],
   "source": [
    "base_model.output"
   ]
  },
  {
   "cell_type": "code",
   "execution_count": null,
   "metadata": {
    "executionInfo": {
     "elapsed": 404078,
     "status": "ok",
     "timestamp": 1618966575723,
     "user": {
      "displayName": "Victor Barbosa",
      "photoUrl": "https://lh3.googleusercontent.com/a-/AOh14Gi7VdrCuKHAhg6DiK85v9zSQn_hBC6RoRX0XtffAg=s64",
      "userId": "11691659511021961113"
     },
     "user_tz": 180
    },
    "id": "-HLNogS8S9uA"
   },
   "outputs": [],
   "source": [
    "model = tf.keras.Sequential()\n",
    "model.add(base_model)\n",
    "model.add(tf.keras.layers.Flatten())\n",
    "model.add(tf.keras.layers.Dense(1024, activation='relu'))\n",
    "model.add(tf.keras.layers.Dropout(0.25))\n",
    "model.add(tf.keras.layers.Dense(1024, activation='relu'))\n",
    "model.add(tf.keras.layers.Dropout(0.25))\n",
    "model.add(tf.keras.layers.Dense(512, activation='relu'))\n",
    "model.add(tf.keras.layers.Dropout(0.25))\n",
    "model.add(tf.keras.layers.Dense(6, activation='sigmoid'))"
   ]
  },
  {
   "cell_type": "code",
   "execution_count": null,
   "metadata": {
    "executionInfo": {
     "elapsed": 404073,
     "status": "ok",
     "timestamp": 1618966575725,
     "user": {
      "displayName": "Victor Barbosa",
      "photoUrl": "https://lh3.googleusercontent.com/a-/AOh14Gi7VdrCuKHAhg6DiK85v9zSQn_hBC6RoRX0XtffAg=s64",
      "userId": "11691659511021961113"
     },
     "user_tz": 180
    },
    "id": "jZ22bibQMMM4"
   },
   "outputs": [],
   "source": [
    "lrate = 0.00001\n",
    "epochs = 90000\n",
    "\n",
    "optimizer = tf.keras.optimizers.Adam(learning_rate=lrate)\n"
   ]
  },
  {
   "cell_type": "code",
   "execution_count": null,
   "metadata": {
    "colab": {
     "base_uri": "https://localhost:8080/"
    },
    "executionInfo": {
     "elapsed": 404290,
     "status": "ok",
     "timestamp": 1618966575995,
     "user": {
      "displayName": "Victor Barbosa",
      "photoUrl": "https://lh3.googleusercontent.com/a-/AOh14Gi7VdrCuKHAhg6DiK85v9zSQn_hBC6RoRX0XtffAg=s64",
      "userId": "11691659511021961113"
     },
     "user_tz": 180
    },
    "id": "NHYpbKRr8gOj",
    "outputId": "19607f2c-2b12-4562-a712-8c3bceafdd8e"
   },
   "outputs": [],
   "source": [
    "checkpoint1 = ModelCheckpoint(\"./normal-models/houdout_inception_sub_loss.hdf5\", monitor='val_loss', verbose=1,\n",
    "    save_best_only=True, mode='auto', period=1)\n"
   ]
  },
  {
   "cell_type": "code",
   "execution_count": null,
   "metadata": {
    "executionInfo": {
     "elapsed": 404280,
     "status": "ok",
     "timestamp": 1618966575997,
     "user": {
      "displayName": "Victor Barbosa",
      "photoUrl": "https://lh3.googleusercontent.com/a-/AOh14Gi7VdrCuKHAhg6DiK85v9zSQn_hBC6RoRX0XtffAg=s64",
      "userId": "11691659511021961113"
     },
     "user_tz": 180
    },
    "id": "nHhM30lV2Lpf"
   },
   "outputs": [],
   "source": [
    "def _weighted_log_loss(y_true, y_pred):\n",
    "    \n",
    "    class_weights = np.array([2, 1, 1, 1, 1, 1])\n",
    "\n",
    "    y_pred = tf.keras.backend.clip(y_pred, tf.keras.backend.epsilon(), 1.0-tf.keras.backend.epsilon())\n",
    "    out = -(         y_true  * tf.keras.backend.log(      y_pred) * class_weights\n",
    "            + (1.0 - y_true) * tf.keras.backend.log(1.0 - y_pred) * class_weights)\n",
    "    \n",
    "    return tf.keras.backend.mean(out, axis=-1)"
   ]
  },
  {
   "cell_type": "code",
   "execution_count": null,
   "metadata": {
    "colab": {
     "base_uri": "https://localhost:8080/"
    },
    "executionInfo": {
     "elapsed": 408791,
     "status": "ok",
     "timestamp": 1618966580531,
     "user": {
      "displayName": "Victor Barbosa",
      "photoUrl": "https://lh3.googleusercontent.com/a-/AOh14Gi7VdrCuKHAhg6DiK85v9zSQn_hBC6RoRX0XtffAg=s64",
      "userId": "11691659511021961113"
     },
     "user_tz": 180
    },
    "id": "zH4Q4hJsXncn",
    "outputId": "d4cb04e1-3730-4762-8f4e-be2936348ed1"
   },
   "outputs": [],
   "source": [
    "!pip3 install gitpython"
   ]
  },
  {
   "cell_type": "code",
   "execution_count": null,
   "metadata": {
    "executionInfo": {
     "elapsed": 408787,
     "status": "ok",
     "timestamp": 1618966580533,
     "user": {
      "displayName": "Victor Barbosa",
      "photoUrl": "https://lh3.googleusercontent.com/a-/AOh14Gi7VdrCuKHAhg6DiK85v9zSQn_hBC6RoRX0XtffAg=s64",
      "userId": "11691659511021961113"
     },
     "user_tz": 180
    },
    "id": "zAg7Quh9W42Y"
   },
   "outputs": [],
   "source": [
    "from git import Repo\n",
    "\n",
    "PATH_OF_GIT_REPO = r'/content/normal-models/.git'  # make sure .git folder is properly configured\n",
    "COMMIT_MESSAGE = 'update'\n",
    "\n",
    "def git_push():\n",
    "    try:\n",
    "        repo = Repo(PATH_OF_GIT_REPO)\n",
    "        repo.git.add(update=True)\n",
    "        repo.index.commit(COMMIT_MESSAGE)\n",
    "        origin = repo.remote(name='origin')\n",
    "        origin.push()\n",
    "    except:\n",
    "        print('Error')    \n"
   ]
  },
  {
   "cell_type": "code",
   "execution_count": null,
   "metadata": {
    "executionInfo": {
     "elapsed": 408788,
     "status": "ok",
     "timestamp": 1618966580538,
     "user": {
      "displayName": "Victor Barbosa",
      "photoUrl": "https://lh3.googleusercontent.com/a-/AOh14Gi7VdrCuKHAhg6DiK85v9zSQn_hBC6RoRX0XtffAg=s64",
      "userId": "11691659511021961113"
     },
     "user_tz": 180
    },
    "id": "hYM3TdOFZPAs"
   },
   "outputs": [],
   "source": [
    "from threading import Timer,Thread,Event\n",
    "\n",
    "class perpetualTimer():\n",
    "\n",
    "   def __init__(self,t,hFunction):\n",
    "      self.t=t\n",
    "      self.hFunction = hFunction\n",
    "      self.thread = Timer(self.t,self.handle_function)\n",
    "\n",
    "   def handle_function(self):\n",
    "      self.hFunction()\n",
    "      self.thread = Timer(self.t,self.handle_function)\n",
    "      self.thread.start()\n",
    "\n",
    "   def start(self):\n",
    "      self.thread.start()\n",
    "\n",
    "   def cancel(self):\n",
    "      self.thread.cancel()\n"
   ]
  },
  {
   "cell_type": "code",
   "execution_count": null,
   "metadata": {
    "executionInfo": {
     "elapsed": 408785,
     "status": "ok",
     "timestamp": 1618966580539,
     "user": {
      "displayName": "Victor Barbosa",
      "photoUrl": "https://lh3.googleusercontent.com/a-/AOh14Gi7VdrCuKHAhg6DiK85v9zSQn_hBC6RoRX0XtffAg=s64",
      "userId": "11691659511021961113"
     },
     "user_tz": 180
    },
    "id": "XijRMvN6ibbG"
   },
   "outputs": [],
   "source": [
    "stop = tf.keras.callbacks.EarlyStopping(monitor='val_loss', patience=20)"
   ]
  },
  {
   "cell_type": "code",
   "execution_count": null,
   "metadata": {
    "executionInfo": {
     "elapsed": 408784,
     "status": "ok",
     "timestamp": 1618966580541,
     "user": {
      "displayName": "Victor Barbosa",
      "photoUrl": "https://lh3.googleusercontent.com/a-/AOh14Gi7VdrCuKHAhg6DiK85v9zSQn_hBC6RoRX0XtffAg=s64",
      "userId": "11691659511021961113"
     },
     "user_tz": 180
    },
    "id": "RPvkOdj4MM7A"
   },
   "outputs": [],
   "source": [
    "model.compile(optimizer=optimizer, loss = _weighted_log_loss, metrics=['MSE', tf.keras.metrics.BinaryAccuracy(), tf.keras.metrics.Recall(),tf.keras.metrics.Precision()])\n"
   ]
  },
  {
   "cell_type": "code",
   "execution_count": null,
   "metadata": {
    "executionInfo": {
     "elapsed": 408768,
     "status": "ok",
     "timestamp": 1618966580544,
     "user": {
      "displayName": "Victor Barbosa",
      "photoUrl": "https://lh3.googleusercontent.com/a-/AOh14Gi7VdrCuKHAhg6DiK85v9zSQn_hBC6RoRX0XtffAg=s64",
      "userId": "11691659511021961113"
     },
     "user_tz": 180
    },
    "id": "jg5IBe0HdLko"
   },
   "outputs": [],
   "source": [
    "t = perpetualTimer(700, git_push)\n",
    "t.start()"
   ]
  },
  {
   "cell_type": "code",
   "execution_count": null,
   "metadata": {
    "colab": {
     "base_uri": "https://localhost:8080/"
    },
    "id": "PIF40G7tMPHj",
    "outputId": "7cd0e8dd-6301-40e9-8872-dce240a425bb"
   },
   "outputs": [],
   "source": [
    "\n",
    "history = model.fit(train_generator, validation_data = test_generator, epochs= epochs, verbose=1,callbacks=[checkpoint1, checkpoint2,stop])"
   ]
  },
  {
   "cell_type": "markdown",
   "metadata": {
    "id": "q-qiSJ5OhkZA"
   },
   "source": []
  },
  {
   "cell_type": "code",
   "execution_count": null,
   "metadata": {
    "id": "hpovEMXAMUcI"
   },
   "outputs": [],
   "source": [
    "# print(history.history.keys())\n",
    "# summarize history for accuracy\n",
    "plt.plot(history.history['binary_accuracy'])\n",
    "plt.plot(history.history['val_binary_accuracy'])\n",
    "plt.title('model accuracy')\n",
    "plt.ylabel('accuracy')\n",
    "plt.xlabel('epoch')\n",
    "plt.legend(['train', 'test'], loc='upper left')\n",
    "plt.show()"
   ]
  },
  {
   "cell_type": "code",
   "execution_count": null,
   "metadata": {
    "id": "ww7GCEFAJc3p"
   },
   "outputs": [],
   "source": [
    "# print(history.history.keys())\n",
    "# summarize history for accuracy\n",
    "plt.plot(history.history['loss'])\n",
    "plt.plot(history.history['val_loss'])\n",
    "plt.title('model accuracy')\n",
    "plt.ylabel('accuracy')\n",
    "plt.xlabel('epoch')\n",
    "plt.legend(['train', 'test'], loc='upper left')\n",
    "plt.show()"
   ]
  }
 ],
 "metadata": {
  "accelerator": "GPU",
  "colab": {
   "collapsed_sections": [],
   "name": "treinamento-inception.ipynb",
   "provenance": [
    {
     "file_id": "1IapnltQl0k7p5H4juQVguOkzD7fVA_5X",
     "timestamp": 1618966046445
    },
    {
     "file_id": "1tuTlDNQ6vz-oDXs98boGDb5fHQN81TkX",
     "timestamp": 1618926837553
    }
   ]
  },
  "kernelspec": {
   "display_name": "Python 3",
   "language": "python",
   "name": "python3"
  },
  "language_info": {
   "codemirror_mode": {
    "name": "ipython",
    "version": 3
   },
   "file_extension": ".py",
   "mimetype": "text/x-python",
   "name": "python",
   "nbconvert_exporter": "python",
   "pygments_lexer": "ipython3",
   "version": "3.9.5"
  }
 },
 "nbformat": 4,
 "nbformat_minor": 1
}
